{
 "cells": [
  {
   "cell_type": "code",
   "execution_count": null,
   "metadata": {},
   "outputs": [],
   "source": [
    "import random \n",
    "\n",
    "guess_count = 0\n",
    "Exit = False\n",
    "guess = ''\n",
    "Exit_option = ''\n",
    "computer_generated_number = random.randint(1, 9)\n",
    "\n",
    "'''def digitcheck():\n",
    "    guess = ''\n",
    "    \n",
    "    while guess.isdigit() == False:\n",
    "        guess = input('enter your guess   ')\n",
    "        \n",
    "    return int(guess)'''\n",
    "\n",
    "while Exit == False:\n",
    "    guess = int(input('enter your guess   '))\n",
    "    guess_count +=1\n",
    "    if guess > computer_generated_number:\n",
    "        print('your guess is higher than the number')\n",
    "    elif guess < computer_generated_number:\n",
    "        print('your number is lower than the computer')\n",
    "    elif guess == computer_generated_number:\n",
    "        print('correct guess')\n",
    "        print(guess_count)\n",
    "    \n",
    "    \n",
    "        \n",
    "        \n",
    "    while Exit_option != 'yes' or Exit_option != 'no':\n",
    "        \n",
    "        Exit_option = input('do you wish to continue, Yes or No   ').lower()\n",
    "        if Exit_option  == 'yes':\n",
    "            Exit = False\n",
    "            break\n",
    "        elif Exit_option == 'no':\n",
    "            Exit = True\n",
    "            break\n",
    "        else:\n",
    "            print ('that option is invalid')\n",
    "            #Exit_option = input('do you wish to continue, Yes or No   ').lower() \n",
    "        \n",
    "        \n",
    "        \n",
    "    \n",
    "    "
   ]
  },
  {
   "cell_type": "markdown",
   "metadata": {},
   "source": [
    "### "
   ]
  },
  {
   "cell_type": "code",
   "execution_count": null,
   "metadata": {},
   "outputs": [],
   "source": []
  },
  {
   "cell_type": "code",
   "execution_count": null,
   "metadata": {},
   "outputs": [],
   "source": []
  },
  {
   "cell_type": "code",
   "execution_count": null,
   "metadata": {},
   "outputs": [],
   "source": [
    "\n",
    "    "
   ]
  },
  {
   "cell_type": "code",
   "execution_count": null,
   "metadata": {},
   "outputs": [],
   "source": []
  },
  {
   "cell_type": "code",
   "execution_count": null,
   "metadata": {},
   "outputs": [],
   "source": [
    "\n"
   ]
  },
  {
   "cell_type": "code",
   "execution_count": null,
   "metadata": {},
   "outputs": [],
   "source": [
    "\n"
   ]
  },
  {
   "cell_type": "code",
   "execution_count": null,
   "metadata": {},
   "outputs": [],
   "source": []
  },
  {
   "cell_type": "code",
   "execution_count": null,
   "metadata": {},
   "outputs": [],
   "source": [
    "\n",
    "    \n"
   ]
  },
  {
   "cell_type": "code",
   "execution_count": null,
   "metadata": {},
   "outputs": [],
   "source": []
  },
  {
   "cell_type": "code",
   "execution_count": null,
   "metadata": {},
   "outputs": [],
   "source": []
  },
  {
   "cell_type": "code",
   "execution_count": null,
   "metadata": {},
   "outputs": [],
   "source": []
  },
  {
   "cell_type": "code",
   "execution_count": null,
   "metadata": {},
   "outputs": [],
   "source": []
  },
  {
   "cell_type": "code",
   "execution_count": null,
   "metadata": {},
   "outputs": [],
   "source": []
  },
  {
   "cell_type": "code",
   "execution_count": null,
   "metadata": {},
   "outputs": [],
   "source": []
  }
 ],
 "metadata": {
  "kernelspec": {
   "display_name": "Python 3",
   "language": "python",
   "name": "python3"
  },
  "language_info": {
   "codemirror_mode": {
    "name": "ipython",
    "version": 3
   },
   "file_extension": ".py",
   "mimetype": "text/x-python",
   "name": "python",
   "nbconvert_exporter": "python",
   "pygments_lexer": "ipython3",
   "version": "3.8.3"
  }
 },
 "nbformat": 4,
 "nbformat_minor": 4
}
