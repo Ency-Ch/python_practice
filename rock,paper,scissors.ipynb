{
 "cells": [
  {
   "cell_type": "code",
   "execution_count": 11,
   "metadata": {},
   "outputs": [
    {
     "name": "stdout",
     "output_type": "stream",
     "text": [
      "1its your turn\n",
      "player 2 pick your choice r, p, s    r\n",
      "do you want to play again, Yes or No no\n"
     ]
    }
   ],
   "source": [
    "import sys\n",
    "import  random\n",
    "\n",
    "def choose_first():\n",
    "    return random.randint(1, 2)\n",
    "\n",
    "def tie_check(player1, player2):\n",
    "    return player1 == player2\n",
    "\n",
    "def win_check1(player1, player2):\n",
    "    return ((player1 =='r' and player2 == 's') or (player1 == 's' and player2 == 'p')\n",
    "    or (player1 == 'p' and player2 == 'r'))\n",
    "\n",
    "def win_check2(player1, player2):\n",
    "    return ((player2 == 'r' and player1 == 's') or (player2 == 's' and player1 == 'p')\n",
    "            or (player2 == 'p' and player1 == 'r'))\n",
    "\n",
    "def player_x_turn(player1, player2):\n",
    "    return (( player1 == 'p' and player2 == ' ') or (player1 == 's' and player2 == ' ') or (player1 == 'r' and player2 == ' ') or\n",
    "            ( player1 == 'p' and player2 == ' ') or (player1 == 's' and player2 == ' ') or (player1 == 'r' and player2 == ' '))\n",
    "\n",
    "def replay():\n",
    "\n",
    "    play_again = ''\n",
    "\n",
    "    play_again = input('do you want to play again, Yes or No ')\n",
    "\n",
    "    if play_again == 'Yes':\n",
    "        return True\n",
    "    else:\n",
    "        return False\n",
    "\n",
    "game_on = True\n",
    "player1 = ' '\n",
    "player2 = ' '\n",
    "turn = str(choose_first())\n",
    "\n",
    "print(turn + 'its your turn')\n",
    "\n",
    "while game_on:\n",
    "\n",
    "    turn = choose_first()\n",
    "\n",
    "    if turn == 1:\n",
    "        player1 = input('player 1 pick your choice r, p, s    ')\n",
    "        if tie_check(player1, player2):\n",
    "            print('the game is a draw')\n",
    "            game_on = False\n",
    "        elif win_check1(player1, player2):\n",
    "            print('player 1 you win')\n",
    "            game_on = False\n",
    "        else:\n",
    "            if player_x_turn(player1, player2):\n",
    "                turn = 2\n",
    "\n",
    "    else:\n",
    "        turn = 2\n",
    "        player2 = input('player 2 pick your choice r, p, s    ')\n",
    "\n",
    "        if tie_check(player1, player2):\n",
    "            print('the game is a draw')\n",
    "            game_on = False\n",
    "        elif win_check2(player1, player2):\n",
    "            print('player 1 you win')\n",
    "            game_on = False\n",
    "        else:\n",
    "             if player_x_turn(player1, player2):\n",
    "                turn = 1\n",
    "\n",
    "    if not replay():\n",
    "        break\n",
    "\n"
   ]
  },
  {
   "cell_type": "raw",
   "metadata": {},
   "source": []
  },
  {
   "cell_type": "code",
   "execution_count": null,
   "metadata": {},
   "outputs": [],
   "source": [
    "\n"
   ]
  },
  {
   "cell_type": "code",
   "execution_count": null,
   "metadata": {},
   "outputs": [],
   "source": []
  }
 ],
 "metadata": {
  "kernelspec": {
   "display_name": "Python 3",
   "language": "python",
   "name": "python3"
  },
  "language_info": {
   "codemirror_mode": {
    "name": "ipython",
    "version": 3
   },
   "file_extension": ".py",
   "mimetype": "text/x-python",
   "name": "python",
   "nbconvert_exporter": "python",
   "pygments_lexer": "ipython3",
   "version": "3.8.3"
  }
 },
 "nbformat": 4,
 "nbformat_minor": 4
}
